{
 "cells": [
  {
   "cell_type": "markdown",
   "id": "f58801b4",
   "metadata": {},
   "source": [
    "# Day 1: COVID-19 Data Exploration\n",
    "\n",
    "This notebook loads and explores the COVID-19 dataset from Our World in Data."
   ]
  },
  {
   "cell_type": "code",
   "execution_count": null,
   "id": "c086f024",
   "metadata": {},
   "outputs": [],
   "source": [
    "# Install required packages (uncomment if needed)\n",
    "# %pip install pandas matplotlib seaborn"
   ]
  },
  {
   "cell_type": "code",
   "execution_count": null,
   "id": "b5bd0d21",
   "metadata": {},
   "outputs": [],
   "source": [
    "import pandas as pd\n",
    "import matplotlib.pyplot as plt\n",
    "import seaborn as sns\n",
    "\n",
    "# Display settings\n",
    "pd.set_option('display.max_columns', None)\n",
    "sns.set(style='whitegrid')"
   ]
  },
  {
   "cell_type": "code",
   "execution_count": null,
   "id": "51bb1f16",
   "metadata": {},
   "outputs": [],
   "source": [
    "# Load the dataset\n",
    "url = 'https://covid.ourworldindata.org/data/owid-covid-data.csv'\n",
    "df = pd.read_csv(url)\n",
    "df.shape"
   ]
  },
  {
   "cell_type": "code",
   "execution_count": null,
   "id": "8c81cbe6",
   "metadata": {},
   "outputs": [],
   "source": [
    "# Preview the dataset\n",
    "df.head()"
   ]
  },
  {
   "cell_type": "code",
   "execution_count": null,
   "id": "7792efc6",
   "metadata": {},
   "outputs": [],
   "source": [
    "# View data types and null counts\n",
    "df.info()\n",
    "df.isnull().sum().sort_values(ascending=False).head(10)"
   ]
  },
  {
   "cell_type": "code",
   "execution_count": null,
   "id": "d3b55794",
   "metadata": {},
   "outputs": [],
   "source": [
    "# Select important columns of interest\n",
    "columns_of_interest = [\n",
    "    'location', 'date', 'total_cases', 'new_cases', 'total_deaths',\n",
    "    'people_vaccinated', 'population', 'tests_per_case', 'reproduction_rate'\n",
    "]\n",
    "df_subset = df[columns_of_interest]\n",
    "df_subset['date'] = pd.to_datetime(df_subset['date'])\n",
    "df_subset.head()"
   ]
  },
  {
   "cell_type": "code",
   "execution_count": null,
   "id": "4fec9e22",
   "metadata": {},
   "outputs": [],
   "source": [
    "# Filter data for two sample countries (India and USA)\n",
    "countries = ['India', 'United States']\n",
    "df_sample = df_subset[df_subset['location'].isin(countries)]\n",
    "df_sample.head()"
   ]
  },
  {
   "cell_type": "code",
   "execution_count": null,
   "id": "cdf16cfa",
   "metadata": {},
   "outputs": [],
   "source": [
    "# Plot total cases over time for India and USA\n",
    "plt.figure(figsize=(12, 6))\n",
    "sns.lineplot(data=df_sample, x='date', y='total_cases', hue='location')\n",
    "plt.title('Total COVID-19 Cases Over Time')\n",
    "plt.xlabel('Date')\n",
    "plt.ylabel('Total Cases')\n",
    "plt.xticks(rotation=45)\n",
    "plt.tight_layout()\n",
    "plt.show()"
   ]
  },
  {
   "cell_type": "code",
   "execution_count": null,
   "id": "73356ede",
   "metadata": {},
   "outputs": [],
   "source": [
    "# Save this sample and upload to azure blob storage container.Manually Create Unity Catalog Metastore\n",
    "df_subset.to_csv('data-samples/raw/owid_subset.csv', index=False)"
   ]
  },
  {
   "cell_type": "markdown",
   "id": "5e893582",
   "metadata": {},
   "source": [
    "Used this video to create metastore to proceed for Day2\n",
    "\n",
    "https://www.youtube.com/watch?v=4uKRzDf0zIc"
   ]
  },
  {
   "cell_type": "code",
   "execution_count": null,
   "id": "41603355",
   "metadata": {},
   "outputs": [],
   "source": []
  }
 ],
 "metadata": {
  "language_info": {
   "name": "python"
  }
 },
 "nbformat": 4,
 "nbformat_minor": 5
}
