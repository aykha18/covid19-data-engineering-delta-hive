{
 "cells": [
  {
   "cell_type": "markdown",
   "metadata": {
    "application/vnd.databricks.v1+cell": {
     "cellMetadata": {},
     "inputWidgets": {},
     "nuid": "20e1d1ec-70b3-46d2-9ffd-8e0629dc4fb4",
     "showTitle": false,
     "tableResultSettingsMap": {},
     "title": ""
    }
   },
   "source": [
    "####Read csv and create delta tables"
   ]
  },
  {
   "cell_type": "code",
   "execution_count": 0,
   "metadata": {
    "application/vnd.databricks.v1+cell": {
     "cellMetadata": {
      "byteLimit": 2048000,
      "rowLimit": 10000
     },
     "inputWidgets": {},
     "nuid": "914d8d47-1b68-4898-b5e4-f28a012a5edc",
     "showTitle": false,
     "tableResultSettingsMap": {},
     "title": ""
    }
   },
   "outputs": [],
   "source": [
    "#Read owid_subset.csv file and create a table in delta format \n",
    "df = spark.read.format(\"csv\").option(\"header\",\"true\").load(\"abfss://raw@covid19storagedb.dfs.core.windows.net/owid_subset.csv\")\n",
    "\n",
    "countries = ['India','United Kingdom','United States','France','Germany','Italy','Spain']\n",
    "\n",
    "df_sample = df.filter(df.location.isin(countries))\n",
    "\n",
    "df_sample.write.format(\"delta\") \\\n",
    "    .option(\"overwriteSchema\", \"true\") \\\n",
    "    .mode(\"overwrite\") \\\n",
    "    .saveAsTable(\"databricks_cat.bronze.owid_subset\")"
   ]
  },
  {
   "cell_type": "code",
   "execution_count": 0,
   "metadata": {
    "application/vnd.databricks.v1+cell": {
     "cellMetadata": {
      "byteLimit": 2048000,
      "rowLimit": 10000
     },
     "inputWidgets": {},
     "nuid": "6a734c07-bdaa-4b46-adc9-dfa77fa3a910",
     "showTitle": false,
     "tableResultSettingsMap": {},
     "title": ""
    }
   },
   "outputs": [],
   "source": [
    "#Read vaccinations_by_manufacturer.csv file and create a table in delta format \n",
    "df = spark.read.format(\"csv\").option(\"header\",\"true\").load(\"abfss://raw@covid19storagedb.dfs.core.windows.net/vaccinations-by-manufacturer.csv\")\n",
    "\n",
    "df_sample = df.filter(df.location.isin(countries))\n",
    "df_sample.write.format(\"delta\") \\\n",
    "    .option(\"overwriteSchema\", \"true\") \\\n",
    "    .mode(\"overwrite\") \\\n",
    "    .saveAsTable(\"databricks_cat.bronze.vaccinations_by_manufacturer\")"
   ]
  },
  {
   "cell_type": "markdown",
   "metadata": {
    "application/vnd.databricks.v1+cell": {
     "cellMetadata": {},
     "inputWidgets": {},
     "nuid": "dd0fd438-9bae-4988-bfcc-d495b344f356",
     "showTitle": false,
     "tableResultSettingsMap": {},
     "title": ""
    }
   },
   "source": [
    "####Set Catalog and Schema\n"
   ]
  },
  {
   "cell_type": "code",
   "execution_count": 0,
   "metadata": {
    "application/vnd.databricks.v1+cell": {
     "cellMetadata": {
      "byteLimit": 2048000,
      "implicitDf": true,
      "rowLimit": 10000
     },
     "inputWidgets": {},
     "nuid": "c9f55c77-97f1-4d8c-9dae-3bab0263b784",
     "showTitle": false,
     "tableResultSettingsMap": {},
     "title": ""
    }
   },
   "outputs": [
    {
     "output_type": "execute_result",
     "data": {
      "text/plain": [
       "DataFrame[]"
      ]
     },
     "execution_count": 135,
     "metadata": {},
     "output_type": "execute_result"
    }
   ],
   "source": [
    "spark.sql(\"USE CATALOG databricks_cat\")\n",
    "spark.sql(\"USE SCHEMA bronze\")"
   ]
  },
  {
   "cell_type": "markdown",
   "metadata": {
    "application/vnd.databricks.v1+cell": {
     "cellMetadata": {},
     "inputWidgets": {},
     "nuid": "02401427-e243-41b4-a59c-d654f882b164",
     "showTitle": false,
     "tableResultSettingsMap": {},
     "title": ""
    }
   },
   "source": [
    "####Explore both the tables"
   ]
  },
  {
   "cell_type": "code",
   "execution_count": 0,
   "metadata": {
    "application/vnd.databricks.v1+cell": {
     "cellMetadata": {
      "byteLimit": 2048000,
      "rowLimit": 10000
     },
     "inputWidgets": {},
     "nuid": "1f832b96-5b6f-4ba7-a744-cf6253f7aae9",
     "showTitle": false,
     "tableResultSettingsMap": {},
     "title": ""
    }
   },
   "outputs": [
    {
     "output_type": "stream",
     "name": "stdout",
     "output_type": "stream",
     "text": [
      "+--------+--------------------+-----------+\n|database|           tableName|isTemporary|\n+--------+--------------------+-----------+\n|  bronze|         owid_subset|      false|\n|  bronze|vaccinations_by_m...|      false|\n+--------+--------------------+-----------+\n\nroot\n |-- location: string (nullable = true)\n |-- date: string (nullable = true)\n |-- total_cases: string (nullable = true)\n |-- new_cases: string (nullable = true)\n |-- total_deaths: string (nullable = true)\n |-- people_vaccinated: string (nullable = true)\n |-- population: string (nullable = true)\n |-- tests_per_case: string (nullable = true)\n |-- reproduction_rate: string (nullable = true)\n\nroot\n |-- location: string (nullable = true)\n |-- date: string (nullable = true)\n |-- vaccine: string (nullable = true)\n |-- total_vaccinations: string (nullable = true)\n\n+--------+----------+-----------+---------+------------+-----------------+----------+--------------+-----------------+\n|location|      date|total_cases|new_cases|total_deaths|people_vaccinated|population|tests_per_case|reproduction_rate|\n+--------+----------+-----------+---------+------------+-----------------+----------+--------------+-----------------+\n|  France|2020-01-05|        0.0|      0.0|         0.0|             NULL|  67813000|          NULL|             NULL|\n|  France|2020-01-06|        0.0|      0.0|         0.0|             NULL|  67813000|          NULL|             NULL|\n|  France|2020-01-07|        0.0|      0.0|         0.0|             NULL|  67813000|          NULL|             NULL|\n|  France|2020-01-08|        0.0|      0.0|         0.0|             NULL|  67813000|          NULL|             NULL|\n|  France|2020-01-09|        0.0|      0.0|         0.0|             NULL|  67813000|          NULL|             NULL|\n+--------+----------+-----------+---------+------------+-----------------+----------+--------------+-----------------+\nonly showing top 5 rows\n"
     ]
    }
   ],
   "source": [
    "# List and read the tables in bronze schema\n",
    "spark.sql(\"SHOW TABLES\").show()\n",
    "\n",
    "df_owid = spark.sql(\"SELECT * FROM owid_subset\")\n",
    "df_vaccinations = spark.sql(\"SELECT * FROM vaccinations_by_manufacturer\")\n",
    "\n",
    "df_owid.printSchema()\n",
    "df_vaccinations.printSchema()\n",
    "\n",
    "df_owid.show(5)\n",
    "#df_vaccinations.show(5)"
   ]
  },
  {
   "cell_type": "markdown",
   "metadata": {
    "application/vnd.databricks.v1+cell": {
     "cellMetadata": {},
     "inputWidgets": {},
     "nuid": "33b6c331-c4f1-41f3-8707-7f83426399df",
     "showTitle": false,
     "tableResultSettingsMap": {},
     "title": ""
    }
   },
   "source": [
    "####Data Cleansing and Transformation\n",
    "Let’s do basic cleanup like:\n",
    "\n",
    "- Renaming columns\n",
    "- Converting date format\n",
    "- Dropping nulls (if any)"
   ]
  },
  {
   "cell_type": "code",
   "execution_count": 0,
   "metadata": {
    "application/vnd.databricks.v1+cell": {
     "cellMetadata": {
      "byteLimit": 2048000,
      "rowLimit": 10000
     },
     "inputWidgets": {},
     "nuid": "2dc73c45-5992-4580-a7e7-0b58add296ef",
     "showTitle": false,
     "tableResultSettingsMap": {},
     "title": ""
    }
   },
   "outputs": [
    {
     "output_type": "stream",
     "name": "stdout",
     "output_type": "stream",
     "text": [
      "root\n |-- location: string (nullable = true)\n |-- date: date (nullable = true)\n |-- total_cases: double (nullable = true)\n |-- new_cases: double (nullable = true)\n |-- total_deaths: double (nullable = true)\n |-- people_vaccinated: double (nullable = true)\n |-- population: long (nullable = true)\n |-- tests_per_case: double (nullable = true)\n |-- reproduction_rate: double (nullable = true)\n\n"
     ]
    }
   ],
   "source": [
    "from pyspark.sql.functions import col, to_date\n",
    "\n",
    "df_owid_clean = df_owid \\\n",
    "      .withColumn(\"date\", to_date(col(\"date\"), \"yyyy-MM-dd\"))\\\n",
    "      .dropna(subset=[\"total_cases\", \"new_cases\", \"total_deaths\", \"people_vaccinated\", \"population\", \"tests_per_case\", \"reproduction_rate\"])\n",
    "\n",
    "df_owid_clean = df_owid_clean \\\n",
    "        .withColumn(\"total_cases\", col(\"total_cases\").cast(\"double\")) \\\n",
    "        .withColumn(\"new_cases\",col(\"new_cases\").cast(\"double\")) \\\n",
    "        .withColumn(\"total_deaths\",col(\"total_deaths\").cast(\"double\")) \\\n",
    "        .withColumn(\"people_vaccinated\",col(\"people_vaccinated\").cast(\"double\")) \\\n",
    "        .withColumn(\"population\",col(\"population\").cast(\"long\")) \\\n",
    "        .withColumn(\"tests_per_case\",col(\"tests_per_case\").cast(\"double\")) \\\n",
    "        .withColumn(\"reproduction_rate\",col(\"reproduction_rate\").cast(\"double\"))\n",
    "\n",
    "df_owid_clean.fillna({\"total_cases\": 0, \n",
    "                      \"new_cases\": 0, \"total_deaths\": 0, \"people_vaccinated\": 0, \"population\": 0, \"tests_per_case\": 0, \"reproduction_rate\": 0})\n",
    "df_owid_clean.printSchema()    \n"
   ]
  },
  {
   "cell_type": "code",
   "execution_count": 0,
   "metadata": {
    "application/vnd.databricks.v1+cell": {
     "cellMetadata": {
      "byteLimit": 2048000,
      "rowLimit": 10000
     },
     "inputWidgets": {},
     "nuid": "bbe33e21-ab4b-4ce3-b030-9bb968946df5",
     "showTitle": false,
     "tableResultSettingsMap": {},
     "title": ""
    }
   },
   "outputs": [
    {
     "output_type": "stream",
     "name": "stdout",
     "output_type": "stream",
     "text": [
      "root\n |-- location: string (nullable = true)\n |-- date: date (nullable = true)\n |-- vaccine: string (nullable = true)\n |-- total_vaccinations: double (nullable = true)\n\n"
     ]
    }
   ],
   "source": [
    "df_vacc_clean = df_vaccinations \\\n",
    "      .withColumn(\"date\", to_date(col(\"date\"), \"yyyy-MM-dd\"))\\\n",
    "      .dropna(subset=[\"total_vaccinations\", \"location\"])\n",
    "\n",
    "df_vacc_clean = df_vacc_clean \\\n",
    "        .withColumn(\"total_vaccinations\", col(\"total_vaccinations\").cast(\"double\"))\n",
    "\n",
    "df_vacc_clean.fillna({\"total_vaccinations\": 0})\n",
    "df_vacc_clean.printSchema()"
   ]
  },
  {
   "cell_type": "markdown",
   "metadata": {
    "application/vnd.databricks.v1+cell": {
     "cellMetadata": {},
     "inputWidgets": {},
     "nuid": "00ef0c87-0450-4d69-8557-87c56e580430",
     "showTitle": false,
     "tableResultSettingsMap": {},
     "title": ""
    }
   },
   "source": [
    "####Save to Silver Layer"
   ]
  },
  {
   "cell_type": "code",
   "execution_count": 0,
   "metadata": {
    "application/vnd.databricks.v1+cell": {
     "cellMetadata": {
      "byteLimit": 2048000,
      "rowLimit": 10000
     },
     "inputWidgets": {},
     "nuid": "3afd7e9e-e2ba-4fa1-a6a4-c82e177dfe3a",
     "showTitle": false,
     "tableResultSettingsMap": {},
     "title": ""
    }
   },
   "outputs": [
    {
     "output_type": "stream",
     "name": "stdout",
     "output_type": "stream",
     "text": [
      "+--------+--------------------+-----------+\n|database|           tableName|isTemporary|\n+--------+--------------------+-----------+\n|  silver| owid_subset_cleaned|      false|\n|  silver|vaccinations_by_m...|      false|\n+--------+--------------------+-----------+\n\n+--------+----------+-----------+---------+------------+-----------------+----------+--------------+-----------------+\n|location|      date|total_cases|new_cases|total_deaths|people_vaccinated|population|tests_per_case|reproduction_rate|\n+--------+----------+-----------+---------+------------+-----------------+----------+--------------+-----------------+\n|  France|2020-12-27|  2338258.0|  83888.0|     63534.0|            616.0|  67813000|          35.7|             1.03|\n|  France|2020-12-28|  2338258.0|      0.0|     63534.0|           1326.0|  67813000|          32.3|             1.05|\n|  France|2020-12-29|  2338258.0|      0.0|     63534.0|           1716.0|  67813000|          27.0|             1.07|\n|  France|2020-12-30|  2338258.0|      0.0|     63534.0|           2172.0|  67813000|          22.7|             1.09|\n|  France|2020-12-31|  2338258.0|      0.0|     63534.0|           2623.0|  67813000|          20.4|             1.09|\n+--------+----------+-----------+---------+------------+-----------------+----------+--------------+-----------------+\n\n+--------+----------+------------------+------------------+\n|location|      date|           vaccine|total_vaccinations|\n+--------+----------+------------------+------------------+\n|  France|2020-12-27|   Johnson&Johnson|               0.0|\n|  France|2020-12-27|           Moderna|               0.0|\n|  France|2020-12-27|           Novavax|               0.0|\n|  France|2020-12-27|Oxford/AstraZeneca|               0.0|\n|  France|2020-12-27|   Pfizer/BioNTech|             616.0|\n+--------+----------+------------------+------------------+\n\n"
     ]
    }
   ],
   "source": [
    "spark.sql(\"USE SCHEMA silver\")\n",
    "\n",
    "df_owid_clean.write.format(\"delta\") \\\n",
    "    .option(\"overwriteSchema\", \"true\") \\\n",
    "    .mode(\"overwrite\") \\\n",
    "    .saveAsTable(\"owid_subset_cleaned\")\n",
    "\n",
    "df_vacc_clean.write.format(\"delta\") \\\n",
    "    .option(\"overwriteSchema\", \"true\") \\\n",
    "    .mode(\"overwrite\") \\\n",
    "    .saveAsTable(\"vaccinations_by_manufacturer_cleaned\")\n",
    "\n",
    "spark.sql(\"SHOW TABLES\").show()\n",
    "spark.sql(\"select * from owid_subset_cleaned limit 5\").show()\n",
    "spark.sql(\"select * from vaccinations_by_manufacturer_cleaned limit 5\").show()"
   ]
  }
 ],
 "metadata": {
  "application/vnd.databricks.v1+notebook": {
   "computePreferences": null,
   "dashboards": [],
   "environmentMetadata": null,
   "inputWidgetPreferences": null,
   "language": "python",
   "notebookMetadata": {
    "mostRecentlyExecutedCommandWithImplicitDF": {
     "commandId": -1,
     "dataframes": [
      "_sqldf"
     ]
    },
    "pythonIndentUnit": 2
   },
   "notebookName": "Day 2: Load Raw Data & Register with Unity Catalog",
   "widgets": {}
  },
  "language_info": {
   "name": "python"
  }
 },
 "nbformat": 4,
 "nbformat_minor": 0
}