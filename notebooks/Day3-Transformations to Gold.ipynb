{
 "cells": [
  {
   "cell_type": "markdown",
   "metadata": {
    "application/vnd.databricks.v1+cell": {
     "cellMetadata": {},
     "inputWidgets": {},
     "nuid": "de780cc1-35a9-4bf5-86ea-b3349d20bdea",
     "showTitle": false,
     "tableResultSettingsMap": {},
     "title": ""
    }
   },
   "source": [
    "###Day 3: Transformations for Gold Tables"
   ]
  },
  {
   "cell_type": "code",
   "execution_count": 0,
   "metadata": {
    "application/vnd.databricks.v1+cell": {
     "cellMetadata": {
      "byteLimit": 2048000,
      "rowLimit": 10000
     },
     "inputWidgets": {},
     "nuid": "87bc6bb5-a399-4da1-9dca-f302de5e8464",
     "showTitle": false,
     "tableResultSettingsMap": {},
     "title": ""
    }
   },
   "outputs": [],
   "source": [
    "from pyspark.sql.functions import col, sum as _sum, max as _max\n",
    "\n",
    "#Use Silver Schema\n",
    "spark.sql(\"USE CATALOG databricks_cat\")\n",
    "spark.sql(\"USE SCHEMA silver\")\n",
    "\n",
    "df_owid = spark.table(\"owid_subset_cleaned\")\n",
    "df_vacc = spark.table(\"vaccinations_by_manufacturer_cleaned\")\n",
    "\n",
    "# Show sample data\n",
    "df_owid.display()\n",
    "\n",
    "# Show sample data from manufacturer data\n",
    "df_vacc.display()"
   ]
  },
  {
   "cell_type": "markdown",
   "metadata": {
    "application/vnd.databricks.v1+cell": {
     "cellMetadata": {},
     "inputWidgets": {},
     "nuid": "cee5f9d6-c2cf-43cc-9f0a-98d6f55cedb9",
     "showTitle": false,
     "tableResultSettingsMap": {},
     "title": ""
    }
   },
   "source": [
    "##### Create Gold-level aggregated table: Daily total vaccinations by country\n"
   ]
  },
  {
   "cell_type": "code",
   "execution_count": 0,
   "metadata": {
    "application/vnd.databricks.v1+cell": {
     "cellMetadata": {
      "byteLimit": 2048000,
      "rowLimit": 10000
     },
     "inputWidgets": {},
     "nuid": "6fa39803-b215-45d7-ab82-8e86cdbea8ff",
     "showTitle": false,
     "tableResultSettingsMap": {},
     "title": ""
    }
   },
   "outputs": [],
   "source": [
    "from pyspark.sql.functions import sum as _sum\n",
    "# Read from Silver schema using fully qualified name\n",
    "df_owid = spark.table(\"databricks_cat.silver.owid_subset_cleaned\")\n",
    "df_vacc = spark.table(\"databricks_cat.silver.vaccinations_by_manufacturer_cleaned\")\n",
    "\n",
    "# Transform\n",
    "df_tot_vacc = df_owid.groupBy(\"location\", \"date\") \\\n",
    "    .agg(_sum(\"people_vaccinated\").alias(\"people_vaccinated\"))\n",
    "\n",
    "df_vacc_by_manufacturer = df_vacc.groupBy(\"date\",\"vaccine\", \"location\") \\\n",
    "            .agg(_sum(\"total_vaccinations\").alias(\"total_vaccinations\"))\n",
    "\n",
    "# Switch to Gold schema\n",
    "spark.sql(\"USE SCHEMA gold\")\n",
    "\n",
    "# Save to Gold tables\n",
    "df_tot_vacc.write \\\n",
    "    .format(\"delta\") \\\n",
    "    .option(\"overwriteSchema\", \"true\") \\\n",
    "    .mode(\"overwrite\") \\\n",
    "    .saveAsTable(\"daily_country_vaccinations\")\n",
    "\n",
    "df_vacc_by_manufacturer.write \\\n",
    "    .format(\"delta\") \\\n",
    "    .option(\"overwriteSchema\", \"true\") \\\n",
    "    .mode(\"overwrite\") \\\n",
    "    .saveAsTable(\"vaccinations_by_manufacturer\")"
   ]
  },
  {
   "cell_type": "code",
   "execution_count": 0,
   "metadata": {
    "application/vnd.databricks.v1+cell": {
     "cellMetadata": {
      "byteLimit": 2048000,
      "rowLimit": 10000
     },
     "inputWidgets": {},
     "nuid": "de17c376-1338-4945-a638-dce367d88b70",
     "showTitle": false,
     "tableResultSettingsMap": {},
     "title": ""
    }
   },
   "outputs": [
    {
     "output_type": "stream",
     "name": "stdout",
     "output_type": "stream",
     "text": [
      "+-------------+----------+-----------------+\n|     location|      date|people_vaccinated|\n+-------------+----------+-----------------+\n|United States|2021-11-04|      2.2325143E8|\n|       France|2021-08-21|      4.7987077E7|\n|United States|2021-02-11|      4.1179619E7|\n|        Italy|2021-08-31|      4.2819383E7|\n|United States|2021-03-21|      9.0645717E7|\n+-------------+----------+-----------------+\n\n+------------------+--------+------------------+\n|           vaccine|location|total_vaccinations|\n+------------------+--------+------------------+\n|   Pfizer/BioNTech|   Italy|   7.5090024728E10|\n|           Novavax|   Italy|         1.16305E7|\n|Oxford/AstraZeneca|   Spain|      5.19977338E8|\n|           Novavax| Germany|       5.0932135E7|\n|   Johnson&Johnson| Germany|     2.184070823E9|\n+------------------+--------+------------------+\n\n"
     ]
    }
   ],
   "source": [
    "# Show Gold Table Preview\n",
    "spark.sql(\"SELECT * FROM daily_country_vaccinations LIMIT 5\").show()\n",
    "spark.sql(\"SELECT * FROM vaccinations_by_manufacturer LIMIT 5\").show()"
   ]
  }
 ],
 "metadata": {
  "application/vnd.databricks.v1+notebook": {
   "computePreferences": null,
   "dashboards": [],
   "environmentMetadata": {
    "base_environment": "",
    "environment_version": "2"
   },
   "inputWidgetPreferences": null,
   "language": "python",
   "notebookMetadata": {
    "pythonIndentUnit": 4
   },
   "notebookName": "Day3-Transformations to Gold",
   "widgets": {}
  },
  "language_info": {
   "name": "python"
  }
 },
 "nbformat": 4,
 "nbformat_minor": 0
}