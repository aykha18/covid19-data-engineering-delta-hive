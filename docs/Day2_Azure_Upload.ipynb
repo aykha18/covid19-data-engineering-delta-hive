{
 "cells": [
  {
   "cell_type": "markdown",
   "id": "7e0f3632",
   "metadata": {},
   "source": [
    "# Day 2: Azure Environment Setup & Data Upload\n",
    "\n",
    "This notebook walks through connecting to Azure Data Lake Storage Gen2 and uploading sample COVID-19 data using Python (Azure SDK)."
   ]
  },
  {
   "cell_type": "markdown",
   "id": "4f896dba",
   "metadata": {},
   "source": [
    "## 📦 Prerequisites\n",
    "- Azure subscription\n",
    "- ADLS Gen2 account and container created\n",
    "- `azurerm` role permissions assigned to your identity\n",
    "- Install `azure-storage-blob` and `azure-identity` packages"
   ]
  },
  {
   "cell_type": "code",
   "execution_count": null,
   "id": "147b6fe3",
   "metadata": {},
   "outputs": [],
   "source": [
    "# Install packages (uncomment if needed)\n",
    "# %pip install azure-storage-blob azure-identity"
   ]
  },
  {
   "cell_type": "code",
   "execution_count": null,
   "id": "772e82f6",
   "metadata": {},
   "outputs": [],
   "source": [
    "# Import required libraries\n",
    "from azure.identity import DefaultAzureCredential\n",
    "from azure.storage.blob import BlobServiceClient\n",
    "import os"
   ]
  },
  {
   "cell_type": "markdown",
   "id": "e5d9d5cb",
   "metadata": {},
   "source": [
    "## 🔐 Azure Configuration (Update placeholders with your values)"
   ]
  },
  {
   "cell_type": "code",
   "execution_count": null,
   "id": "42bb1c95",
   "metadata": {},
   "outputs": [],
   "source": [
    "# Set your storage account name and container\n",
    "account_url = 'https://<your_storage_account>.blob.core.windows.net'\n",
    "container_name = '<your_container_name>'\n",
    "\n",
    "# Use Azure credentials (if running from Azure or with CLI login)\n",
    "credential = DefaultAzureCredential()"
   ]
  },
  {
   "cell_type": "code",
   "execution_count": null,
   "id": "0bf372a8",
   "metadata": {},
   "outputs": [],
   "source": [
    "# Connect to the blob service\n",
    "blob_service_client = BlobServiceClient(account_url=account_url, credential=credential)\n",
    "container_client = blob_service_client.get_container_client(container_name)"
   ]
  },
  {
   "cell_type": "markdown",
   "id": "6ed98b37",
   "metadata": {},
   "source": [
    "## 📤 Upload Sample Data to Azure Data Lake"
   ]
  },
  {
   "cell_type": "code",
   "execution_count": null,
   "id": "a31cd13b",
   "metadata": {},
   "outputs": [],
   "source": [
    "# Upload the sample CSV file to the container\n",
    "local_file_path = 'data-samples/cleaned/sample_countries.csv'\n",
    "blob_name = 'raw/sample_countries.csv'\n",
    "\n",
    "with open(local_file_path, 'rb') as data:\n",
    "    container_client.upload_blob(name=blob_name, data=data, overwrite=True)\n",
    "\n",
    "print(f\"Uploaded {blob_name} to Azure Data Lake.\")"
   ]
  },
  {
   "cell_type": "markdown",
   "id": "78f82dbe",
   "metadata": {},
   "source": [
    "✅ You have now uploaded a sample COVID-19 data file to Azure Data Lake Storage. This file can be accessed and processed from Databricks in the next step."
   ]
  }
 ],
 "metadata": {},
 "nbformat": 4,
 "nbformat_minor": 5
}
